{
 "cells": [
  {
   "cell_type": "code",
   "execution_count": 49,
   "id": "d6335c97-058c-4545-98e1-f865fa768b99",
   "metadata": {},
   "outputs": [],
   "source": [
    "# Brendan Dasilva"
   ]
  },
  {
   "cell_type": "code",
   "execution_count": 51,
   "id": "c0803459-abd6-465d-9b90-0dee7cac237a",
   "metadata": {},
   "outputs": [],
   "source": [
    "# Assignment 01\n",
    "# Student ID : 101447806"
   ]
  },
  {
   "cell_type": "code",
   "execution_count": 53,
   "id": "6fcf9aff-6338-4694-92e8-13d9f8b8f217",
   "metadata": {},
   "outputs": [],
   "source": [
    "import numpy as np\n",
    "import matplotlib.pyplot as plt\n",
    "import seaborn as sns"
   ]
  },
  {
   "cell_type": "code",
   "execution_count": 55,
   "id": "f8f5b103-2559-4279-85cb-c94729cb178b",
   "metadata": {},
   "outputs": [
    {
     "name": "stdout",
     "output_type": "stream",
     "text": [
      "[('Alex', '\"       \"\"M\"\"\"', 41, 74, 170)\n",
      " ('Bert', '\"       \"\"M\"\"\"', 42, 68, 166)\n",
      " ('Carl', '\"       \"\"M\"\"\"', 32, 70, 155)\n",
      " ('Dave', '\"       \"\"M\"\"\"', 39, 72, 167)\n",
      " ('Elly', '\"       \"\"F\"\"\"', 30, 66, 124)\n",
      " ('Fran', '\"       \"\"F\"\"\"', 33, 66, 115)\n",
      " ('Gwen', '\"       \"\"F\"\"\"', 26, 64, 121)\n",
      " ('Hank', '\"       \"\"M\"\"\"', 30, 71, 158)\n",
      " ('Ivan', '\"       \"\"M\"\"\"', 53, 72, 175)\n",
      " ('Jake', '\"       \"\"M\"\"\"', 32, 69, 143)\n",
      " ('Kate', '\"       \"\"F\"\"\"', 47, 69, 139)\n",
      " ('Luke', '\"       \"\"M\"\"\"', 34, 72, 163)\n",
      " ('Myra', '\"       \"\"F\"\"\"', 23, 62,  98)\n",
      " ('Neil', '\"       \"\"M\"\"\"', 36, 75, 160)\n",
      " ('Omar', '\"       \"\"M\"\"\"', 38, 70, 145)\n",
      " ('Page', '\"       \"\"F\"\"\"', 31, 67, 135)\n",
      " ('Quin', '\"       \"\"M\"\"\"', 29, 71, 176)\n",
      " ('Ruth', '\"       \"\"F\"\"\"', 28, 65, 131)]\n"
     ]
    }
   ],
   "source": [
    "# 1. Import biostats1.csv\n",
    "\n",
    "data = np.genfromtxt('biostats1.csv', delimiter=',', dtype=None, names=True, encoding='utf-8') \n",
    "\n",
    "print(data) # The data prints kind of ugly so I'd like to clean it up"
   ]
  },
  {
   "cell_type": "code",
   "execution_count": 32,
   "id": "a246e492-2f54-42d7-90ec-e03ff395a49a",
   "metadata": {},
   "outputs": [
    {
     "name": "stdout",
     "output_type": "stream",
     "text": [
      "('Alex', 'M', 41, 74, 170)\n",
      "('Bert', 'M', 42, 68, 166)\n",
      "('Carl', 'M', 32, 70, 155)\n",
      "('Dave', 'M', 39, 72, 167)\n",
      "('Elly', 'F', 30, 66, 124)\n",
      "('Fran', 'F', 33, 66, 115)\n",
      "('Gwen', 'F', 26, 64, 121)\n",
      "('Hank', 'M', 30, 71, 158)\n",
      "('Ivan', 'M', 53, 72, 175)\n",
      "('Jake', 'M', 32, 69, 143)\n",
      "('Kate', 'F', 47, 69, 139)\n",
      "('Luke', 'M', 34, 72, 163)\n",
      "('Myra', 'F', 23, 62, 98)\n",
      "('Neil', 'M', 36, 75, 160)\n",
      "('Omar', 'M', 38, 70, 145)\n",
      "('Page', 'F', 31, 67, 135)\n",
      "('Quin', 'M', 29, 71, 176)\n",
      "('Ruth', 'F', 28, 65, 131)\n"
     ]
    }
   ],
   "source": [
    "# clean data\n",
    "def clean_data(array):\n",
    "    for field in array.dtype.names:\n",
    "        # check if data is unicode string or byte string in order to remove extra quotes and spaces\n",
    "        if array[field].dtype.kind in {'U', 'S'}: \n",
    "            array[field] = np.char.replace(array[field], '\"', '')\n",
    "            array[field] = np.char.strip(array[field]) \n",
    "            array[field] = np.char.replace(array[field], \"'\", '') \n",
    "    return array\n",
    "\n",
    "cleaned_data = clean_data(data)\n",
    "\n",
    "for row in cleaned_data:\n",
    "    print(row)"
   ]
  },
  {
   "cell_type": "code",
   "execution_count": 57,
   "id": "4db73459-14e6-40c7-b77e-27ed57497cf5",
   "metadata": {},
   "outputs": [
    {
     "name": "stdout",
     "output_type": "stream",
     "text": [
      "[41 42 32 39 30 33 26 30 53 32 47 34 23 36 38 31 29 28]\n"
     ]
    }
   ],
   "source": [
    "# 2. Fetch age column and store it in an array\n",
    "# 3. Print the array\n",
    "\n",
    "age_array = cleaned_data['Age']\n",
    "\n",
    "print(age_array)"
   ]
  },
  {
   "cell_type": "code",
   "execution_count": 59,
   "id": "a83c1630-b223-4e6a-acfd-187e364a65b7",
   "metadata": {},
   "outputs": [
    {
     "name": "stdout",
     "output_type": "stream",
     "text": [
      "The average age is: 34.67\n",
      "\n",
      "The standard deviation is 7.36\n",
      "\n",
      "The min age is: 23\n",
      "\n",
      "The max age is: 53\n"
     ]
    }
   ],
   "source": [
    "# 4. Calculate and Print (age_array):\n",
    "#     - Average\n",
    "#     - Standard Deviation\n",
    "#     - Min and Max\n",
    "\n",
    "average_age = np.average(age_array)\n",
    "print(f\"The average age is: {average_age:.2f}\\n\")\n",
    "\n",
    "stdev = np.std(age_array)\n",
    "print(f\"The standard deviation is {stdev:.2f}\\n\")\n",
    "\n",
    "min = np.min(age_array)\n",
    "print(f\"The min age is: {min}\\n\")\n",
    "\n",
    "max = np.max(age_array)\n",
    "print(f\"The max age is: {max}\")"
   ]
  },
  {
   "cell_type": "code",
   "execution_count": 61,
   "id": "5fe17555-6ccd-4f51-a6ea-9c9947f562e6",
   "metadata": {},
   "outputs": [
    {
     "name": "stdout",
     "output_type": "stream",
     "text": [
      "The 30th percentile is: 30.10\n",
      "\n",
      "The median age is: 32.50\n",
      "\n",
      "The 70th percentile is: 37.80\n",
      "\n"
     ]
    }
   ],
   "source": [
    "# 5. Find and print (age_array):\n",
    "#     - 30th percentile\n",
    "#     - median \n",
    "#     - 70th percentile\n",
    "\n",
    "percentile_thirty = np.percentile(age_array, 30)\n",
    "print(f\"The 30th percentile is: {percentile_thirty:.2f}\\n\")\n",
    "\n",
    "median = np.median(age_array)\n",
    "print(f\"The median age is: {median:.2f}\\n\")\n",
    "\n",
    "percentile_seventy = np.percentile(age_array, 70)\n",
    "print(f\"The 70th percentile is: {percentile_seventy:.2f}\\n\")"
   ]
  },
  {
   "cell_type": "code",
   "execution_count": 63,
   "id": "17866060-78ae-4260-af44-82a8573d3ab0",
   "metadata": {},
   "outputs": [
    {
     "data": {
      "image/png": "[encoded data removed]",
      "text/plain": [
       "<Figure size 640x480 with 1 Axes>"
      ]
     },
     "metadata": {},
     "output_type": "display_data"
    }
   ],
   "source": [
    "# 6. Draw a histogram for the age_array\n",
    "\n",
    "sns.set(style=\"darkgrid\")\n",
    "\n",
    "plt.hist(age_array, bins=10, edgecolor='white')\n",
    "plt.title('\\nAge Distribution - By Brendan\\n',\n",
    "          fontweight = \"bold\")\n",
    "plt.xlabel('Age')\n",
    "plt.ylabel('Occurrences')\n",
    "\n",
    "plt.show()"
   ]
  },
  {
   "cell_type": "code",
   "execution_count": 65,
   "id": "2cade9c0-12e4-42a2-ab10-81c10de6a0a6",
   "metadata": {},
   "outputs": [
    {
     "data": {
      "image/png": "[encoded data removed]",
      "text/plain": [
       "<Figure size 700x500 with 1 Axes>"
      ]
     },
     "metadata": {},
     "output_type": "display_data"
    }
   ],
   "source": [
    "# OOP style for Matplotlib\n",
    "sns.set(style=\"darkgrid\")\n",
    "\n",
    "fig, ax = plt.subplots(figsize=(7, 5))\n",
    "\n",
    "ax.hist(age_array, bins=10, edgecolor='white')\n",
    "\n",
    "ax.set_title('Age Distribution - By Brendan', fontweight=\"bold\")\n",
    "ax.set_xlabel('Age')\n",
    "ax.set_ylabel('Occurrences')\n",
    "\n",
    "plt.show()"
   ]
  },
  {
   "cell_type": "code",
   "execution_count": null,
   "id": "5796fd73-a9c3-4623-9059-4de4a827353c",
   "metadata": {},
   "outputs": [],
   "source": []
  }
 ],
 "metadata": {
  "kernelspec": {
   "display_name": "Python 3 (ipykernel)",
   "language": "python",
   "name": "python3"
  },
  "language_info": {
   "codemirror_mode": {
    "name": "ipython",
    "version": 3
   },
   "file_extension": ".py",
   "mimetype": "text/x-python",
   "name": "python",
   "nbconvert_exporter": "python",
   "pygments_lexer": "ipython3",
   "version": "3.12.4"
  }
 },
 "nbformat": 4,
 "nbformat_minor": 5
}
