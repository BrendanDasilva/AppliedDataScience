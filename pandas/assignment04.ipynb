{
 "cells": [
  {
   "cell_type": "markdown",
   "id": "7fd7d731-cae3-4c21-9a8a-7f515e1df826",
   "metadata": {},
   "source": [
    "## Assignment 04\n",
    "## Brendan Dasilva\n",
    "## 101447806"
   ]
  },
  {
   "cell_type": "markdown",
   "id": "94244c1a-de66-4df5-a8e3-420d6fa290e0",
   "metadata": {},
   "source": [
    "#### 0. Imports"
   ]
  },
  {
   "cell_type": "markdown",
   "id": "ddcaa72f-2227-4d79-889f-3ff2c256783d",
   "metadata": {},
   "source": [
    "#### -----------------------------------------------------------------------------------------------------------------------------"
   ]
  },
  {
   "cell_type": "code",
   "execution_count": 5,
   "id": "c6708655-145f-4902-89fa-82fba39a8e1c",
   "metadata": {},
   "outputs": [],
   "source": [
    "import pandas as pd"
   ]
  },
  {
   "cell_type": "markdown",
   "id": "3647a80a-1a09-45b7-815e-076b228ea36e",
   "metadata": {},
   "source": [
    "#### 1.    Download the test.csv file and store it in a DataFrame named, myDF."
   ]
  },
  {
   "cell_type": "code",
   "execution_count": 7,
   "id": "deaa2de1-0e2a-4dbf-9013-39685d80d892",
   "metadata": {},
   "outputs": [],
   "source": [
    "myDF = pd.read_csv('test.csv')"
   ]
  },
  {
   "cell_type": "markdown",
   "id": "e878f1a0-ab45-41ec-b950-3dbba79604f0",
   "metadata": {},
   "source": [
    "#### 2.\tShow the first three rows of the DF."
   ]
  },
  {
   "cell_type": "code",
   "execution_count": 9,
   "id": "20fd3f37-aa4c-4662-9e9d-6295c6a4f3c5",
   "metadata": {},
   "outputs": [
    {
     "data": {
      "text/html": [
       "<div>\n",
       "<style scoped>\n",
       "    .dataframe tbody tr th:only-of-type {\n",
       "        vertical-align: middle;\n",
       "    }\n",
       "\n",
       "    .dataframe tbody tr th {\n",
       "        vertical-align: top;\n",
       "    }\n",
       "\n",
       "    .dataframe thead th {\n",
       "        text-align: right;\n",
       "    }\n",
       "</style>\n",
       "<table border=\"1\" class=\"dataframe\">\n",
       "  <thead>\n",
       "    <tr style=\"text-align: right;\">\n",
       "      <th></th>\n",
       "      <th>ID</th>\n",
       "      <th>Range</th>\n",
       "      <th>Value</th>\n",
       "      <th>Type</th>\n",
       "      <th>Zip Code</th>\n",
       "      <th>Model</th>\n",
       "      <th>Cost</th>\n",
       "      <th>Continent</th>\n",
       "    </tr>\n",
       "  </thead>\n",
       "  <tbody>\n",
       "    <tr>\n",
       "      <th>0</th>\n",
       "      <td>10</td>\n",
       "      <td>192</td>\n",
       "      <td>50</td>\n",
       "      <td>F</td>\n",
       "      <td>NXEYEM</td>\n",
       "      <td>EX85</td>\n",
       "      <td>[56$]</td>\n",
       "      <td>Asia</td>\n",
       "    </tr>\n",
       "    <tr>\n",
       "      <th>1</th>\n",
       "      <td>20</td>\n",
       "      <td>299</td>\n",
       "      <td>21</td>\n",
       "      <td>M</td>\n",
       "      <td>VNFKZD</td>\n",
       "      <td>CT41</td>\n",
       "      <td>[18$]</td>\n",
       "      <td>Asia</td>\n",
       "    </tr>\n",
       "    <tr>\n",
       "      <th>2</th>\n",
       "      <td>30</td>\n",
       "      <td>378</td>\n",
       "      <td>28</td>\n",
       "      <td>X</td>\n",
       "      <td>IMGMFY</td>\n",
       "      <td>VN81</td>\n",
       "      <td>[90$]</td>\n",
       "      <td>North America</td>\n",
       "    </tr>\n",
       "  </tbody>\n",
       "</table>\n",
       "</div>"
      ],
      "text/plain": [
       "   ID  Range  Value Type Zip Code Model   Cost      Continent\n",
       "0  10    192     50    F   NXEYEM  EX85  [56$]           Asia\n",
       "1  20    299     21    M   VNFKZD  CT41  [18$]           Asia\n",
       "2  30    378     28    X   IMGMFY  VN81  [90$]  North America"
      ]
     },
     "execution_count": 9,
     "metadata": {},
     "output_type": "execute_result"
    }
   ],
   "source": [
    "# use head() to show rows - defaults to 5 - we specify 3 here as a param\n",
    "myDF.head(3)"
   ]
  },
  {
   "cell_type": "markdown",
   "id": "35f81b2f-89a6-4f24-aed2-03a8346598dc",
   "metadata": {},
   "source": [
    "#### 3.\tDelete the ‘Model’ column from the DF temporarily."
   ]
  },
  {
   "cell_type": "code",
   "execution_count": 11,
   "id": "c475e77a-8b6a-4b2e-98ef-ffe62ed79729",
   "metadata": {},
   "outputs": [
    {
     "data": {
      "text/html": [
       "<div>\n",
       "<style scoped>\n",
       "    .dataframe tbody tr th:only-of-type {\n",
       "        vertical-align: middle;\n",
       "    }\n",
       "\n",
       "    .dataframe tbody tr th {\n",
       "        vertical-align: top;\n",
       "    }\n",
       "\n",
       "    .dataframe thead th {\n",
       "        text-align: right;\n",
       "    }\n",
       "</style>\n",
       "<table border=\"1\" class=\"dataframe\">\n",
       "  <thead>\n",
       "    <tr style=\"text-align: right;\">\n",
       "      <th></th>\n",
       "      <th>ID</th>\n",
       "      <th>Range</th>\n",
       "      <th>Value</th>\n",
       "      <th>Type</th>\n",
       "      <th>Zip Code</th>\n",
       "      <th>Model</th>\n",
       "      <th>Cost</th>\n",
       "      <th>Continent</th>\n",
       "    </tr>\n",
       "  </thead>\n",
       "  <tbody>\n",
       "    <tr>\n",
       "      <th>0</th>\n",
       "      <td>10</td>\n",
       "      <td>192</td>\n",
       "      <td>50</td>\n",
       "      <td>F</td>\n",
       "      <td>NXEYEM</td>\n",
       "      <td>EX85</td>\n",
       "      <td>[56$]</td>\n",
       "      <td>Asia</td>\n",
       "    </tr>\n",
       "    <tr>\n",
       "      <th>1</th>\n",
       "      <td>20</td>\n",
       "      <td>299</td>\n",
       "      <td>21</td>\n",
       "      <td>M</td>\n",
       "      <td>VNFKZD</td>\n",
       "      <td>CT41</td>\n",
       "      <td>[18$]</td>\n",
       "      <td>Asia</td>\n",
       "    </tr>\n",
       "    <tr>\n",
       "      <th>2</th>\n",
       "      <td>30</td>\n",
       "      <td>378</td>\n",
       "      <td>28</td>\n",
       "      <td>X</td>\n",
       "      <td>IMGMFY</td>\n",
       "      <td>VN81</td>\n",
       "      <td>[90$]</td>\n",
       "      <td>North America</td>\n",
       "    </tr>\n",
       "    <tr>\n",
       "      <th>3</th>\n",
       "      <td>40</td>\n",
       "      <td>156</td>\n",
       "      <td>44</td>\n",
       "      <td>Q</td>\n",
       "      <td>RHRHJY</td>\n",
       "      <td>IR14</td>\n",
       "      <td>[89$]</td>\n",
       "      <td>Asia</td>\n",
       "    </tr>\n",
       "    <tr>\n",
       "      <th>4</th>\n",
       "      <td>50</td>\n",
       "      <td>468</td>\n",
       "      <td>33</td>\n",
       "      <td>J</td>\n",
       "      <td>HPQCMC</td>\n",
       "      <td>QX90</td>\n",
       "      <td>[95$]</td>\n",
       "      <td>Africa</td>\n",
       "    </tr>\n",
       "  </tbody>\n",
       "</table>\n",
       "</div>"
      ],
      "text/plain": [
       "   ID  Range  Value Type Zip Code Model   Cost      Continent\n",
       "0  10    192     50    F   NXEYEM  EX85  [56$]           Asia\n",
       "1  20    299     21    M   VNFKZD  CT41  [18$]           Asia\n",
       "2  30    378     28    X   IMGMFY  VN81  [90$]  North America\n",
       "3  40    156     44    Q   RHRHJY  IR14  [89$]           Asia\n",
       "4  50    468     33    J   HPQCMC  QX90  [95$]         Africa"
      ]
     },
     "execution_count": 11,
     "metadata": {},
     "output_type": "execute_result"
    }
   ],
   "source": [
    "# use drop to remove a column temporarily by passing in the column name\n",
    "myDF.drop(columns=['Model'])\n",
    "myDF.head() # its still there"
   ]
  },
  {
   "cell_type": "markdown",
   "id": "81500a66-ea71-40e0-b79d-cec89a1ca689",
   "metadata": {},
   "source": [
    "#### 4.\tDelete the ‘Model’ column permanently, using the assignment (Not inplace parameter). \n",
    "####    Is there any output when you run the permanent deletion? So, how can you make sure it is deleted?"
   ]
  },
  {
   "cell_type": "code",
   "execution_count": 13,
   "id": "e13a16c3-0ac9-4a7f-b4df-ecf3adead3d2",
   "metadata": {},
   "outputs": [
    {
     "data": {
      "text/html": [
       "<div>\n",
       "<style scoped>\n",
       "    .dataframe tbody tr th:only-of-type {\n",
       "        vertical-align: middle;\n",
       "    }\n",
       "\n",
       "    .dataframe tbody tr th {\n",
       "        vertical-align: top;\n",
       "    }\n",
       "\n",
       "    .dataframe thead th {\n",
       "        text-align: right;\n",
       "    }\n",
       "</style>\n",
       "<table border=\"1\" class=\"dataframe\">\n",
       "  <thead>\n",
       "    <tr style=\"text-align: right;\">\n",
       "      <th></th>\n",
       "      <th>ID</th>\n",
       "      <th>Range</th>\n",
       "      <th>Value</th>\n",
       "      <th>Type</th>\n",
       "      <th>Zip Code</th>\n",
       "      <th>Cost</th>\n",
       "      <th>Continent</th>\n",
       "    </tr>\n",
       "  </thead>\n",
       "  <tbody>\n",
       "    <tr>\n",
       "      <th>0</th>\n",
       "      <td>10</td>\n",
       "      <td>192</td>\n",
       "      <td>50</td>\n",
       "      <td>F</td>\n",
       "      <td>NXEYEM</td>\n",
       "      <td>[56$]</td>\n",
       "      <td>Asia</td>\n",
       "    </tr>\n",
       "    <tr>\n",
       "      <th>1</th>\n",
       "      <td>20</td>\n",
       "      <td>299</td>\n",
       "      <td>21</td>\n",
       "      <td>M</td>\n",
       "      <td>VNFKZD</td>\n",
       "      <td>[18$]</td>\n",
       "      <td>Asia</td>\n",
       "    </tr>\n",
       "    <tr>\n",
       "      <th>2</th>\n",
       "      <td>30</td>\n",
       "      <td>378</td>\n",
       "      <td>28</td>\n",
       "      <td>X</td>\n",
       "      <td>IMGMFY</td>\n",
       "      <td>[90$]</td>\n",
       "      <td>North America</td>\n",
       "    </tr>\n",
       "    <tr>\n",
       "      <th>3</th>\n",
       "      <td>40</td>\n",
       "      <td>156</td>\n",
       "      <td>44</td>\n",
       "      <td>Q</td>\n",
       "      <td>RHRHJY</td>\n",
       "      <td>[89$]</td>\n",
       "      <td>Asia</td>\n",
       "    </tr>\n",
       "    <tr>\n",
       "      <th>4</th>\n",
       "      <td>50</td>\n",
       "      <td>468</td>\n",
       "      <td>33</td>\n",
       "      <td>J</td>\n",
       "      <td>HPQCMC</td>\n",
       "      <td>[95$]</td>\n",
       "      <td>Africa</td>\n",
       "    </tr>\n",
       "  </tbody>\n",
       "</table>\n",
       "</div>"
      ],
      "text/plain": [
       "   ID  Range  Value Type Zip Code   Cost      Continent\n",
       "0  10    192     50    F   NXEYEM  [56$]           Asia\n",
       "1  20    299     21    M   VNFKZD  [18$]           Asia\n",
       "2  30    378     28    X   IMGMFY  [90$]  North America\n",
       "3  40    156     44    Q   RHRHJY  [89$]           Asia\n",
       "4  50    468     33    J   HPQCMC  [95$]         Africa"
      ]
     },
     "execution_count": 13,
     "metadata": {},
     "output_type": "execute_result"
    }
   ],
   "source": [
    "# use the assigned variable myDF to permanetly drop the 'Model' column\n",
    "myDF = myDF.drop(columns=['Model'])\n",
    "myDF.head() # now we can confirm it is removed"
   ]
  },
  {
   "cell_type": "markdown",
   "id": "a8846d0a-c373-424f-8e4c-2334ca1de938",
   "metadata": {},
   "source": [
    "#### 5.\tNow, let’s delete rows 1, 3, and 5 permanently, using inplace. Then show the first 4 Rows of myDF."
   ]
  },
  {
   "cell_type": "code",
   "execution_count": 15,
   "id": "20949636-ba35-477e-89f9-5255924ad8f7",
   "metadata": {},
   "outputs": [
    {
     "data": {
      "text/html": [
       "<div>\n",
       "<style scoped>\n",
       "    .dataframe tbody tr th:only-of-type {\n",
       "        vertical-align: middle;\n",
       "    }\n",
       "\n",
       "    .dataframe tbody tr th {\n",
       "        vertical-align: top;\n",
       "    }\n",
       "\n",
       "    .dataframe thead th {\n",
       "        text-align: right;\n",
       "    }\n",
       "</style>\n",
       "<table border=\"1\" class=\"dataframe\">\n",
       "  <thead>\n",
       "    <tr style=\"text-align: right;\">\n",
       "      <th></th>\n",
       "      <th>ID</th>\n",
       "      <th>Range</th>\n",
       "      <th>Value</th>\n",
       "      <th>Type</th>\n",
       "      <th>Zip Code</th>\n",
       "      <th>Cost</th>\n",
       "      <th>Continent</th>\n",
       "    </tr>\n",
       "  </thead>\n",
       "  <tbody>\n",
       "    <tr>\n",
       "      <th>0</th>\n",
       "      <td>10</td>\n",
       "      <td>192</td>\n",
       "      <td>50</td>\n",
       "      <td>F</td>\n",
       "      <td>NXEYEM</td>\n",
       "      <td>[56$]</td>\n",
       "      <td>Asia</td>\n",
       "    </tr>\n",
       "    <tr>\n",
       "      <th>2</th>\n",
       "      <td>30</td>\n",
       "      <td>378</td>\n",
       "      <td>28</td>\n",
       "      <td>X</td>\n",
       "      <td>IMGMFY</td>\n",
       "      <td>[90$]</td>\n",
       "      <td>North America</td>\n",
       "    </tr>\n",
       "    <tr>\n",
       "      <th>4</th>\n",
       "      <td>50</td>\n",
       "      <td>468</td>\n",
       "      <td>33</td>\n",
       "      <td>J</td>\n",
       "      <td>HPQCMC</td>\n",
       "      <td>[95$]</td>\n",
       "      <td>Africa</td>\n",
       "    </tr>\n",
       "    <tr>\n",
       "      <th>6</th>\n",
       "      <td>70</td>\n",
       "      <td>327</td>\n",
       "      <td>24</td>\n",
       "      <td>F</td>\n",
       "      <td>NLVQPY</td>\n",
       "      <td>[25$]</td>\n",
       "      <td>Europe</td>\n",
       "    </tr>\n",
       "  </tbody>\n",
       "</table>\n",
       "</div>"
      ],
      "text/plain": [
       "   ID  Range  Value Type Zip Code   Cost      Continent\n",
       "0  10    192     50    F   NXEYEM  [56$]           Asia\n",
       "2  30    378     28    X   IMGMFY  [90$]  North America\n",
       "4  50    468     33    J   HPQCMC  [95$]         Africa\n",
       "6  70    327     24    F   NLVQPY  [25$]         Europe"
      ]
     },
     "execution_count": 15,
     "metadata": {},
     "output_type": "execute_result"
    }
   ],
   "source": [
    "# instead of using assignment we can use inplace param set to True to directly modify the dataframe (you would typically want to use assignment though)\n",
    "myDF.drop([1, 3, 5], inplace=True)\n",
    "myDF.head(4)"
   ]
  },
  {
   "cell_type": "markdown",
   "id": "ecda27b0-4c02-42f9-8bf1-bc6896763d60",
   "metadata": {},
   "source": [
    "#### 6.\tCalculate the mean of ‘Range’ column."
   ]
  },
  {
   "cell_type": "code",
   "execution_count": 17,
   "id": "1804620b-84b0-40bc-9539-73ad7e489312",
   "metadata": {},
   "outputs": [
    {
     "data": {
      "text/plain": [
       "297.53326293558604"
      ]
     },
     "execution_count": 17,
     "metadata": {},
     "output_type": "execute_result"
    }
   ],
   "source": [
    "# use the mean() function from pandas to get the mean of the 'Range' column\n",
    "myDF['Range'].mean()"
   ]
  },
  {
   "cell_type": "markdown",
   "id": "6ec1ae68-d91e-4a4e-a60d-488be0f0a38d",
   "metadata": {},
   "source": [
    "#### 7.\tHow many ‘F’ do we have in the ‘Type’ column? Replace them permanently with ‘AAA’ and show the first 5 rows."
   ]
  },
  {
   "cell_type": "code",
   "execution_count": 19,
   "id": "2c07c0af-186e-4d7c-b9be-c71d95f2914d",
   "metadata": {},
   "outputs": [
    {
     "name": "stdout",
     "output_type": "stream",
     "text": [
      "The number of times 'F' appears in the 'Type' column is: 50\n"
     ]
    }
   ],
   "source": [
    "# use value_counts() returns a series with the counts of unique values in the column\n",
    "# .get() gets the count of value 'F' in column 'Type' \n",
    "# param 0 -- if F does not exist it returns 0 instead of a KeyError\n",
    "count_f = myDF['Type'].value_counts().get('F', 0)\n",
    "print(f\"The number of times 'F' appears in the 'Type' column is: {count_f}\")"
   ]
  },
  {
   "cell_type": "code",
   "execution_count": 20,
   "id": "eb191916-484a-411e-9ded-b05d6b5a865c",
   "metadata": {},
   "outputs": [
    {
     "data": {
      "text/html": [
       "<div>\n",
       "<style scoped>\n",
       "    .dataframe tbody tr th:only-of-type {\n",
       "        vertical-align: middle;\n",
       "    }\n",
       "\n",
       "    .dataframe tbody tr th {\n",
       "        vertical-align: top;\n",
       "    }\n",
       "\n",
       "    .dataframe thead th {\n",
       "        text-align: right;\n",
       "    }\n",
       "</style>\n",
       "<table border=\"1\" class=\"dataframe\">\n",
       "  <thead>\n",
       "    <tr style=\"text-align: right;\">\n",
       "      <th></th>\n",
       "      <th>ID</th>\n",
       "      <th>Range</th>\n",
       "      <th>Value</th>\n",
       "      <th>Type</th>\n",
       "      <th>Zip Code</th>\n",
       "      <th>Cost</th>\n",
       "      <th>Continent</th>\n",
       "    </tr>\n",
       "  </thead>\n",
       "  <tbody>\n",
       "    <tr>\n",
       "      <th>0</th>\n",
       "      <td>10</td>\n",
       "      <td>192</td>\n",
       "      <td>50</td>\n",
       "      <td>AAA</td>\n",
       "      <td>NXEYEM</td>\n",
       "      <td>[56$]</td>\n",
       "      <td>Asia</td>\n",
       "    </tr>\n",
       "    <tr>\n",
       "      <th>2</th>\n",
       "      <td>30</td>\n",
       "      <td>378</td>\n",
       "      <td>28</td>\n",
       "      <td>X</td>\n",
       "      <td>IMGMFY</td>\n",
       "      <td>[90$]</td>\n",
       "      <td>North America</td>\n",
       "    </tr>\n",
       "    <tr>\n",
       "      <th>4</th>\n",
       "      <td>50</td>\n",
       "      <td>468</td>\n",
       "      <td>33</td>\n",
       "      <td>J</td>\n",
       "      <td>HPQCMC</td>\n",
       "      <td>[95$]</td>\n",
       "      <td>Africa</td>\n",
       "    </tr>\n",
       "    <tr>\n",
       "      <th>6</th>\n",
       "      <td>70</td>\n",
       "      <td>327</td>\n",
       "      <td>24</td>\n",
       "      <td>AAA</td>\n",
       "      <td>NLVQPY</td>\n",
       "      <td>[25$]</td>\n",
       "      <td>Europe</td>\n",
       "    </tr>\n",
       "    <tr>\n",
       "      <th>7</th>\n",
       "      <td>80</td>\n",
       "      <td>495</td>\n",
       "      <td>50</td>\n",
       "      <td>Z</td>\n",
       "      <td>DLUMAX</td>\n",
       "      <td>[70$]</td>\n",
       "      <td>Antarctica</td>\n",
       "    </tr>\n",
       "  </tbody>\n",
       "</table>\n",
       "</div>"
      ],
      "text/plain": [
       "   ID  Range  Value Type Zip Code   Cost      Continent\n",
       "0  10    192     50  AAA   NXEYEM  [56$]           Asia\n",
       "2  30    378     28    X   IMGMFY  [90$]  North America\n",
       "4  50    468     33    J   HPQCMC  [95$]         Africa\n",
       "6  70    327     24  AAA   NLVQPY  [25$]         Europe\n",
       "7  80    495     50    Z   DLUMAX  [70$]     Antarctica"
      ]
     },
     "execution_count": 20,
     "metadata": {},
     "output_type": "execute_result"
    }
   ],
   "source": [
    "# permanent replace 'F' with 'AAA'\n",
    "myDF['Type'] = myDF['Type'].replace('F', 'AAA')\n",
    "myDF.head()"
   ]
  },
  {
   "cell_type": "markdown",
   "id": "23373a0c-5f01-46b3-b5f5-c8ecc8ad000e",
   "metadata": {},
   "source": [
    "#### 8.\tGet rid of the [, $ and ] from the ‘Cost’ column permanently and display the first 5 rows. \n",
    "####    What is the type of ‘Cost’ column after this?"
   ]
  },
  {
   "cell_type": "code",
   "execution_count": 22,
   "id": "9af34636-0572-4f3a-b869-f523cf73265b",
   "metadata": {},
   "outputs": [
    {
     "data": {
      "text/html": [
       "<div>\n",
       "<style scoped>\n",
       "    .dataframe tbody tr th:only-of-type {\n",
       "        vertical-align: middle;\n",
       "    }\n",
       "\n",
       "    .dataframe tbody tr th {\n",
       "        vertical-align: top;\n",
       "    }\n",
       "\n",
       "    .dataframe thead th {\n",
       "        text-align: right;\n",
       "    }\n",
       "</style>\n",
       "<table border=\"1\" class=\"dataframe\">\n",
       "  <thead>\n",
       "    <tr style=\"text-align: right;\">\n",
       "      <th></th>\n",
       "      <th>ID</th>\n",
       "      <th>Range</th>\n",
       "      <th>Value</th>\n",
       "      <th>Type</th>\n",
       "      <th>Zip Code</th>\n",
       "      <th>Cost</th>\n",
       "      <th>Continent</th>\n",
       "    </tr>\n",
       "  </thead>\n",
       "  <tbody>\n",
       "    <tr>\n",
       "      <th>0</th>\n",
       "      <td>10</td>\n",
       "      <td>192</td>\n",
       "      <td>50</td>\n",
       "      <td>AAA</td>\n",
       "      <td>NXEYEM</td>\n",
       "      <td>56</td>\n",
       "      <td>Asia</td>\n",
       "    </tr>\n",
       "    <tr>\n",
       "      <th>2</th>\n",
       "      <td>30</td>\n",
       "      <td>378</td>\n",
       "      <td>28</td>\n",
       "      <td>X</td>\n",
       "      <td>IMGMFY</td>\n",
       "      <td>90</td>\n",
       "      <td>North America</td>\n",
       "    </tr>\n",
       "    <tr>\n",
       "      <th>4</th>\n",
       "      <td>50</td>\n",
       "      <td>468</td>\n",
       "      <td>33</td>\n",
       "      <td>J</td>\n",
       "      <td>HPQCMC</td>\n",
       "      <td>95</td>\n",
       "      <td>Africa</td>\n",
       "    </tr>\n",
       "    <tr>\n",
       "      <th>6</th>\n",
       "      <td>70</td>\n",
       "      <td>327</td>\n",
       "      <td>24</td>\n",
       "      <td>AAA</td>\n",
       "      <td>NLVQPY</td>\n",
       "      <td>25</td>\n",
       "      <td>Europe</td>\n",
       "    </tr>\n",
       "    <tr>\n",
       "      <th>7</th>\n",
       "      <td>80</td>\n",
       "      <td>495</td>\n",
       "      <td>50</td>\n",
       "      <td>Z</td>\n",
       "      <td>DLUMAX</td>\n",
       "      <td>70</td>\n",
       "      <td>Antarctica</td>\n",
       "    </tr>\n",
       "  </tbody>\n",
       "</table>\n",
       "</div>"
      ],
      "text/plain": [
       "   ID  Range  Value Type Zip Code Cost      Continent\n",
       "0  10    192     50  AAA   NXEYEM   56           Asia\n",
       "2  30    378     28    X   IMGMFY   90  North America\n",
       "4  50    468     33    J   HPQCMC   95         Africa\n",
       "6  70    327     24  AAA   NLVQPY   25         Europe\n",
       "7  80    495     50    Z   DLUMAX   70     Antarctica"
      ]
     },
     "execution_count": 22,
     "metadata": {},
     "output_type": "execute_result"
    }
   ],
   "source": [
    "# str.replace for string manipulation on the 'Cost' column --> regex=True to match literal [ ] $\n",
    "# r before the first param treats the string as a raw string to avoid any invalid escape sequence warnings\n",
    "myDF['Cost'] = myDF['Cost'].str.replace(r'[\\[\\]$]', '', regex=True)\n",
    "myDF.head()"
   ]
  },
  {
   "cell_type": "markdown",
   "id": "b36d8459-4e18-48c4-98bc-8388076c8a83",
   "metadata": {},
   "source": [
    "#### 9.\tChange the ‘Cost’ column data type to integer and display the result."
   ]
  },
  {
   "cell_type": "code",
   "execution_count": 24,
   "id": "4685763c-c07f-4606-9ee0-d9299f70b84a",
   "metadata": {},
   "outputs": [
    {
     "name": "stdout",
     "output_type": "stream",
     "text": [
      "int64\n"
     ]
    }
   ],
   "source": [
    "# astype() method to change the data type of the 'Cost' column to interger \n",
    "# need to do this before we can perform calculations on this column\n",
    "myDF['Cost'] = myDF['Cost'].astype(int)\n",
    "print(myDF['Cost'].dtypes)"
   ]
  },
  {
   "cell_type": "markdown",
   "id": "3a34f173-2b59-4a41-b612-78dc44631a68",
   "metadata": {},
   "source": [
    "#### 10.\tCalculate the average of ‘Cost’ column. Then, calculate the average of ‘Cost’ for each ‘Continent’."
   ]
  },
  {
   "cell_type": "code",
   "execution_count": 26,
   "id": "825d2b89-6133-4c73-81cf-b07f543becad",
   "metadata": {},
   "outputs": [
    {
     "name": "stdout",
     "output_type": "stream",
     "text": [
      "The mean of the Cost column is : 54.586061246040124\n"
     ]
    }
   ],
   "source": [
    "# .mean() to calculate the average\n",
    "cost_mean = myDF['Cost'].mean()\n",
    "print(f\"The mean of the Cost column is : {cost_mean}\")"
   ]
  },
  {
   "cell_type": "code",
   "execution_count": 27,
   "id": "7adb7540-7cf2-4c95-a32a-04f8576f07ec",
   "metadata": {},
   "outputs": [
    {
     "name": "stdout",
     "output_type": "stream",
     "text": [
      "The mean of the Cost column is : Continent\n",
      "Africa           54.741259\n",
      "Antarctica       54.706897\n",
      "Asia             54.279070\n",
      "Australia        56.838028\n",
      "Europe           53.258993\n",
      "North America    55.006993\n",
      "South America    53.162963\n",
      "Name: Cost, dtype: float64\n"
     ]
    }
   ],
   "source": [
    "# for each Continent use groupby, pass in 'Continent' and perform the mean calculation again on the grouped 'Cost' column\n",
    "continent_cost_mean = myDF.groupby('Continent')['Cost'].mean()\n",
    "print(f\"The mean of the Cost column is : {continent_cost_mean}\")"
   ]
  },
  {
   "cell_type": "markdown",
   "id": "7ad9c26f-7aea-4b52-a2da-19ef63875246",
   "metadata": {},
   "source": [
    "#### 11.\tCalculate the min, max and standard deviation of the ‘Cost’ column, group by each ‘Continent’, all in one command."
   ]
  },
  {
   "cell_type": "code",
   "execution_count": 29,
   "id": "185361c9-f276-4254-baa4-24e5021dbc0c",
   "metadata": {},
   "outputs": [
    {
     "name": "stdout",
     "output_type": "stream",
     "text": [
      "               min  max        std\n",
      "Continent                         \n",
      "Africa          11   97  25.961432\n",
      "Antarctica      10   97  24.880590\n",
      "Asia            10   99  26.109737\n",
      "Australia       10   97  26.057121\n",
      "Europe          10   99  26.185054\n",
      "North America   10   99  25.664821\n",
      "South America   10   98  25.724780\n"
     ]
    }
   ],
   "source": [
    "# using groupby again for Continent\n",
    "# agg() method allows us to apply multiple functions on the selected column\n",
    "continent_cost_agg = myDF.groupby('Continent')['Cost'].agg(['min', 'max', 'std'])\n",
    "print(continent_cost_agg)"
   ]
  },
  {
   "cell_type": "markdown",
   "id": "2379de12-6d07-4c8f-b771-e10e413d0228",
   "metadata": {},
   "source": [
    "#### 12.\tCalculate the min, max and standard deviation of all numerical columns, group by each ‘Continent’, all in one command."
   ]
  },
  {
   "cell_type": "code",
   "execution_count": 31,
   "id": "a6e60a13-0b69-4d1a-b891-798333c422f8",
   "metadata": {},
   "outputs": [
    {
     "data": {
      "text/html": [
       "<div>\n",
       "<style scoped>\n",
       "    .dataframe tbody tr th:only-of-type {\n",
       "        vertical-align: middle;\n",
       "    }\n",
       "\n",
       "    .dataframe tbody tr th {\n",
       "        vertical-align: top;\n",
       "    }\n",
       "\n",
       "    .dataframe thead tr th {\n",
       "        text-align: left;\n",
       "    }\n",
       "\n",
       "    .dataframe thead tr:last-of-type th {\n",
       "        text-align: right;\n",
       "    }\n",
       "</style>\n",
       "<table border=\"1\" class=\"dataframe\">\n",
       "  <thead>\n",
       "    <tr>\n",
       "      <th></th>\n",
       "      <th colspan=\"8\" halign=\"left\">ID</th>\n",
       "      <th colspan=\"2\" halign=\"left\">Range</th>\n",
       "      <th>...</th>\n",
       "      <th colspan=\"2\" halign=\"left\">Value</th>\n",
       "      <th colspan=\"8\" halign=\"left\">Cost</th>\n",
       "    </tr>\n",
       "    <tr>\n",
       "      <th></th>\n",
       "      <th>count</th>\n",
       "      <th>mean</th>\n",
       "      <th>std</th>\n",
       "      <th>min</th>\n",
       "      <th>25%</th>\n",
       "      <th>50%</th>\n",
       "      <th>75%</th>\n",
       "      <th>max</th>\n",
       "      <th>count</th>\n",
       "      <th>mean</th>\n",
       "      <th>...</th>\n",
       "      <th>75%</th>\n",
       "      <th>max</th>\n",
       "      <th>count</th>\n",
       "      <th>mean</th>\n",
       "      <th>std</th>\n",
       "      <th>min</th>\n",
       "      <th>25%</th>\n",
       "      <th>50%</th>\n",
       "      <th>75%</th>\n",
       "      <th>max</th>\n",
       "    </tr>\n",
       "    <tr>\n",
       "      <th>Continent</th>\n",
       "      <th></th>\n",
       "      <th></th>\n",
       "      <th></th>\n",
       "      <th></th>\n",
       "      <th></th>\n",
       "      <th></th>\n",
       "      <th></th>\n",
       "      <th></th>\n",
       "      <th></th>\n",
       "      <th></th>\n",
       "      <th></th>\n",
       "      <th></th>\n",
       "      <th></th>\n",
       "      <th></th>\n",
       "      <th></th>\n",
       "      <th></th>\n",
       "      <th></th>\n",
       "      <th></th>\n",
       "      <th></th>\n",
       "      <th></th>\n",
       "      <th></th>\n",
       "    </tr>\n",
       "  </thead>\n",
       "  <tbody>\n",
       "    <tr>\n",
       "      <th>Africa</th>\n",
       "      <td>143.0</td>\n",
       "      <td>4797.692308</td>\n",
       "      <td>2614.387519</td>\n",
       "      <td>50.0</td>\n",
       "      <td>2680.0</td>\n",
       "      <td>4900.0</td>\n",
       "      <td>7115.0</td>\n",
       "      <td>9450.0</td>\n",
       "      <td>143.0</td>\n",
       "      <td>282.475524</td>\n",
       "      <td>...</td>\n",
       "      <td>42.0</td>\n",
       "      <td>50.0</td>\n",
       "      <td>143.0</td>\n",
       "      <td>54.741259</td>\n",
       "      <td>25.961432</td>\n",
       "      <td>11.0</td>\n",
       "      <td>34.00</td>\n",
       "      <td>54.0</td>\n",
       "      <td>78.0</td>\n",
       "      <td>97.0</td>\n",
       "    </tr>\n",
       "    <tr>\n",
       "      <th>Antarctica</th>\n",
       "      <td>116.0</td>\n",
       "      <td>4569.310345</td>\n",
       "      <td>2936.313786</td>\n",
       "      <td>80.0</td>\n",
       "      <td>1887.5</td>\n",
       "      <td>4455.0</td>\n",
       "      <td>7330.0</td>\n",
       "      <td>9370.0</td>\n",
       "      <td>116.0</td>\n",
       "      <td>288.698276</td>\n",
       "      <td>...</td>\n",
       "      <td>39.0</td>\n",
       "      <td>50.0</td>\n",
       "      <td>116.0</td>\n",
       "      <td>54.706897</td>\n",
       "      <td>24.880590</td>\n",
       "      <td>10.0</td>\n",
       "      <td>35.00</td>\n",
       "      <td>59.0</td>\n",
       "      <td>74.0</td>\n",
       "      <td>97.0</td>\n",
       "    </tr>\n",
       "    <tr>\n",
       "      <th>Asia</th>\n",
       "      <td>129.0</td>\n",
       "      <td>4334.031008</td>\n",
       "      <td>2683.431665</td>\n",
       "      <td>10.0</td>\n",
       "      <td>2040.0</td>\n",
       "      <td>4040.0</td>\n",
       "      <td>6680.0</td>\n",
       "      <td>9390.0</td>\n",
       "      <td>129.0</td>\n",
       "      <td>284.914729</td>\n",
       "      <td>...</td>\n",
       "      <td>36.0</td>\n",
       "      <td>50.0</td>\n",
       "      <td>129.0</td>\n",
       "      <td>54.279070</td>\n",
       "      <td>26.109737</td>\n",
       "      <td>10.0</td>\n",
       "      <td>33.00</td>\n",
       "      <td>54.0</td>\n",
       "      <td>74.0</td>\n",
       "      <td>99.0</td>\n",
       "    </tr>\n",
       "    <tr>\n",
       "      <th>Australia</th>\n",
       "      <td>142.0</td>\n",
       "      <td>4677.323944</td>\n",
       "      <td>2793.945560</td>\n",
       "      <td>120.0</td>\n",
       "      <td>2242.5</td>\n",
       "      <td>4590.0</td>\n",
       "      <td>6992.5</td>\n",
       "      <td>9410.0</td>\n",
       "      <td>142.0</td>\n",
       "      <td>305.894366</td>\n",
       "      <td>...</td>\n",
       "      <td>42.0</td>\n",
       "      <td>50.0</td>\n",
       "      <td>142.0</td>\n",
       "      <td>56.838028</td>\n",
       "      <td>26.057121</td>\n",
       "      <td>10.0</td>\n",
       "      <td>36.25</td>\n",
       "      <td>56.5</td>\n",
       "      <td>81.0</td>\n",
       "      <td>97.0</td>\n",
       "    </tr>\n",
       "    <tr>\n",
       "      <th>Europe</th>\n",
       "      <td>139.0</td>\n",
       "      <td>5078.848921</td>\n",
       "      <td>2623.991892</td>\n",
       "      <td>70.0</td>\n",
       "      <td>3065.0</td>\n",
       "      <td>4970.0</td>\n",
       "      <td>7295.0</td>\n",
       "      <td>9480.0</td>\n",
       "      <td>139.0</td>\n",
       "      <td>320.338129</td>\n",
       "      <td>...</td>\n",
       "      <td>42.0</td>\n",
       "      <td>50.0</td>\n",
       "      <td>139.0</td>\n",
       "      <td>53.258993</td>\n",
       "      <td>26.185054</td>\n",
       "      <td>10.0</td>\n",
       "      <td>29.00</td>\n",
       "      <td>54.0</td>\n",
       "      <td>73.0</td>\n",
       "      <td>99.0</td>\n",
       "    </tr>\n",
       "    <tr>\n",
       "      <th>North America</th>\n",
       "      <td>143.0</td>\n",
       "      <td>4906.783217</td>\n",
       "      <td>2841.216413</td>\n",
       "      <td>30.0</td>\n",
       "      <td>2375.0</td>\n",
       "      <td>4820.0</td>\n",
       "      <td>7580.0</td>\n",
       "      <td>9490.0</td>\n",
       "      <td>143.0</td>\n",
       "      <td>299.832168</td>\n",
       "      <td>...</td>\n",
       "      <td>42.0</td>\n",
       "      <td>50.0</td>\n",
       "      <td>143.0</td>\n",
       "      <td>55.006993</td>\n",
       "      <td>25.664821</td>\n",
       "      <td>10.0</td>\n",
       "      <td>33.50</td>\n",
       "      <td>56.0</td>\n",
       "      <td>78.5</td>\n",
       "      <td>99.0</td>\n",
       "    </tr>\n",
       "    <tr>\n",
       "      <th>South America</th>\n",
       "      <td>135.0</td>\n",
       "      <td>4963.851852</td>\n",
       "      <td>2656.186804</td>\n",
       "      <td>90.0</td>\n",
       "      <td>2910.0</td>\n",
       "      <td>5070.0</td>\n",
       "      <td>6975.0</td>\n",
       "      <td>9500.0</td>\n",
       "      <td>135.0</td>\n",
       "      <td>298.422222</td>\n",
       "      <td>...</td>\n",
       "      <td>41.0</td>\n",
       "      <td>50.0</td>\n",
       "      <td>135.0</td>\n",
       "      <td>53.162963</td>\n",
       "      <td>25.724780</td>\n",
       "      <td>10.0</td>\n",
       "      <td>31.00</td>\n",
       "      <td>55.0</td>\n",
       "      <td>74.5</td>\n",
       "      <td>98.0</td>\n",
       "    </tr>\n",
       "  </tbody>\n",
       "</table>\n",
       "<p>7 rows × 32 columns</p>\n",
       "</div>"
      ],
      "text/plain": [
       "                  ID                                                           \\\n",
       "               count         mean          std    min     25%     50%     75%   \n",
       "Continent                                                                       \n",
       "Africa         143.0  4797.692308  2614.387519   50.0  2680.0  4900.0  7115.0   \n",
       "Antarctica     116.0  4569.310345  2936.313786   80.0  1887.5  4455.0  7330.0   \n",
       "Asia           129.0  4334.031008  2683.431665   10.0  2040.0  4040.0  6680.0   \n",
       "Australia      142.0  4677.323944  2793.945560  120.0  2242.5  4590.0  6992.5   \n",
       "Europe         139.0  5078.848921  2623.991892   70.0  3065.0  4970.0  7295.0   \n",
       "North America  143.0  4906.783217  2841.216413   30.0  2375.0  4820.0  7580.0   \n",
       "South America  135.0  4963.851852  2656.186804   90.0  2910.0  5070.0  6975.0   \n",
       "\n",
       "                       Range              ... Value         Cost             \\\n",
       "                  max  count        mean  ...   75%   max  count       mean   \n",
       "Continent                                 ...                                 \n",
       "Africa         9450.0  143.0  282.475524  ...  42.0  50.0  143.0  54.741259   \n",
       "Antarctica     9370.0  116.0  288.698276  ...  39.0  50.0  116.0  54.706897   \n",
       "Asia           9390.0  129.0  284.914729  ...  36.0  50.0  129.0  54.279070   \n",
       "Australia      9410.0  142.0  305.894366  ...  42.0  50.0  142.0  56.838028   \n",
       "Europe         9480.0  139.0  320.338129  ...  42.0  50.0  139.0  53.258993   \n",
       "North America  9490.0  143.0  299.832168  ...  42.0  50.0  143.0  55.006993   \n",
       "South America  9500.0  135.0  298.422222  ...  41.0  50.0  135.0  53.162963   \n",
       "\n",
       "                                                         \n",
       "                     std   min    25%   50%   75%   max  \n",
       "Continent                                                \n",
       "Africa         25.961432  11.0  34.00  54.0  78.0  97.0  \n",
       "Antarctica     24.880590  10.0  35.00  59.0  74.0  97.0  \n",
       "Asia           26.109737  10.0  33.00  54.0  74.0  99.0  \n",
       "Australia      26.057121  10.0  36.25  56.5  81.0  97.0  \n",
       "Europe         26.185054  10.0  29.00  54.0  73.0  99.0  \n",
       "North America  25.664821  10.0  33.50  56.0  78.5  99.0  \n",
       "South America  25.724780  10.0  31.00  55.0  74.5  98.0  \n",
       "\n",
       "[7 rows x 32 columns]"
      ]
     },
     "execution_count": 31,
     "metadata": {},
     "output_type": "execute_result"
    }
   ],
   "source": [
    "# describe() method generates stats on all numeric columns, groupedby 'Continent'\n",
    "myDF.groupby('Continent').describe()"
   ]
  },
  {
   "cell_type": "markdown",
   "id": "42d83849-8a9a-4f35-a7b1-817a179660bf",
   "metadata": {},
   "source": [
    "#### 13.\tIllustrate the mean of all numerical columns, group by the ‘Continent’, using a ‘bar’ chart."
   ]
  },
  {
   "cell_type": "code",
   "execution_count": 33,
   "id": "83d45180-e504-4de3-93cc-e3e754c7032f",
   "metadata": {},
   "outputs": [
    {
     "data": {
      "text/plain": [
       "<Axes: xlabel='Continent'>"
      ]
     },
     "execution_count": 33,
     "metadata": {},
     "output_type": "execute_result"
    },
    {
     "data": {
      "image/png": "[encoded data removed]",
      "text/plain": [
       "<Figure size 640x480 with 1 Axes>"
      ]
     },
     "metadata": {},
     "output_type": "display_data"
    }
   ],
   "source": [
    "# now we are adding on .plot() from the pandas library to create a bar chart - kind just specifies what the type of chart we want\n",
    "\n",
    "# myDF.groupby('Continent').mean().plot(kind='bar') # this gives a type error - even though column 'Cost' is of type int64\n",
    "myDF.groupby('Continent').mean(numeric_only=True).plot(kind='bar') # adding param numeric_only=True to the mean method resolves this type issue\n",
    "\n",
    "# numeric_cols = myDF.select_dtypes(include='number')  # Select only numeric columns\n",
    "# numeric_cols['Continent'] = myDF['Continent']       # Add 'Continent' for grouping\n",
    "# numeric_cols.groupby('Continent').mean().plot(kind='bar')"
   ]
  },
  {
   "cell_type": "markdown",
   "id": "bd6104be-0803-4c2b-a0aa-956dcda1a23f",
   "metadata": {},
   "source": [
    "#### 14.\tCount the number of each continent in the ‘Continent’ column. "
   ]
  },
  {
   "cell_type": "code",
   "execution_count": 35,
   "id": "59ea0415-34ef-4cd9-8a10-351931ff7304",
   "metadata": {},
   "outputs": [
    {
     "data": {
      "text/plain": [
       "Continent\n",
       "North America    143\n",
       "Africa           143\n",
       "Australia        142\n",
       "Europe           139\n",
       "South America    135\n",
       "Asia             129\n",
       "Antarctica       116\n",
       "Name: count, dtype: int64"
      ]
     },
     "execution_count": 35,
     "metadata": {},
     "output_type": "execute_result"
    }
   ],
   "source": [
    "# just a quick value_counts on the 'Continent' column\n",
    "myDF['Continent'].value_counts()"
   ]
  },
  {
   "cell_type": "markdown",
   "id": "5ad6762f-012e-44ed-ae57-e45ba80c451b",
   "metadata": {},
   "source": [
    "#### 15.\tShow the percentage of each continent in the ‘Continent’ column. "
   ]
  },
  {
   "cell_type": "code",
   "execution_count": 37,
   "id": "fc5fd174-ce00-4c43-afa5-69f991fbf274",
   "metadata": {},
   "outputs": [
    {
     "data": {
      "text/plain": [
       "Continent\n",
       "North America    15.100317\n",
       "Africa           15.100317\n",
       "Australia        14.994720\n",
       "Europe           14.677930\n",
       "South America    14.255544\n",
       "Asia             13.621964\n",
       "Antarctica       12.249208\n",
       "Name: proportion, dtype: float64"
      ]
     },
     "execution_count": 37,
     "metadata": {},
     "output_type": "execute_result"
    }
   ],
   "source": [
    "# normalize=True --> instead of raw counts of each, this option will return proportion of each unique value ie. percentage of total\n",
    "myDF['Continent'].value_counts(normalize=True) * 100"
   ]
  },
  {
   "cell_type": "markdown",
   "id": "16f66f5f-d80c-4d7f-9253-b704baee12f8",
   "metadata": {},
   "source": [
    "#### 16.\tShow the unique values that we have in the ‘Continent’ column. Then show the number of unique values that we have \n",
    "####        in the ‘Continent’ column."
   ]
  },
  {
   "cell_type": "code",
   "execution_count": 39,
   "id": "b7aa6c6e-9b81-4894-b688-7a94dd433a73",
   "metadata": {},
   "outputs": [
    {
     "name": "stdout",
     "output_type": "stream",
     "text": [
      "['Asia' 'North America' 'Africa' 'Europe' 'Antarctica' 'South America'\n",
      " 'Australia']\n",
      "7\n"
     ]
    }
   ],
   "source": [
    "# unique() prints each of the unique values in the 'Continent' column\n",
    "continent_unique = myDF['Continent'].unique()\n",
    "print(continent_unique)\n",
    "\n",
    "# nunique() does a count on the number of unique values in the 'Continent' column\n",
    "continent_num_unique = myDF['Continent'].nunique()\n",
    "print(continent_num_unique)"
   ]
  },
  {
   "cell_type": "markdown",
   "id": "6e8f23c6-765a-4c35-9fde-153f7c1e764a",
   "metadata": {},
   "source": [
    "#### 17.\tUse the value_count method for the ‘Cost’ column and describe the output as a comment in the next cell, \n",
    "####        using the # for the comment."
   ]
  },
  {
   "cell_type": "code",
   "execution_count": 41,
   "id": "11533188-124b-40ad-90a3-40b9f3553ae8",
   "metadata": {},
   "outputs": [
    {
     "name": "stdout",
     "output_type": "stream",
     "text": [
      "Cost\n",
      "56    20\n",
      "35    20\n",
      "73    18\n",
      "54    17\n",
      "97    17\n",
      "      ..\n",
      "18     5\n",
      "94     5\n",
      "22     5\n",
      "42     3\n",
      "24     2\n",
      "Name: count, Length: 90, dtype: int64\n"
     ]
    }
   ],
   "source": [
    "# value_counts() on the 'Cost' column\n",
    "cost_counts = myDF['Cost'].value_counts()\n",
    "print(cost_counts)"
   ]
  },
  {
   "cell_type": "code",
   "execution_count": 42,
   "id": "05e21da1-f9de-4f74-8c7a-8eea1e2302b7",
   "metadata": {},
   "outputs": [],
   "source": [
    "# result above shows the frequency of each unique value in the 'Cost' column."
   ]
  },
  {
   "cell_type": "markdown",
   "id": "bbef7e26-e73c-4af8-bba0-f83195ba220e",
   "metadata": {},
   "source": [
    "#### 18.\tPlot a histogram for the ‘Cost’ column. "
   ]
  },
  {
   "cell_type": "code",
   "execution_count": 44,
   "id": "79f1ec01-55b1-4da9-b958-8e56283b3e5e",
   "metadata": {},
   "outputs": [
    {
     "data": {
      "text/plain": [
       "<Axes: >"
      ]
     },
     "execution_count": 44,
     "metadata": {},
     "output_type": "execute_result"
    },
    {
     "data": {
      "image/png": "[encoded data removed]",
      "text/plain": [
       "<Figure size 640x480 with 1 Axes>"
      ]
     },
     "metadata": {},
     "output_type": "display_data"
    }
   ],
   "source": [
    "# hist() from the pandas library to blot the 'Cost' column\n",
    "myDF['Cost'].hist(bins=25, edgecolor='black')"
   ]
  },
  {
   "cell_type": "markdown",
   "id": "3a536c49-04ed-407e-9697-389a9c8f2c1d",
   "metadata": {},
   "source": [
    "#### 19.\tBonus question: Try to change the number of bins to 50 to show the result more accurately."
   ]
  },
  {
   "cell_type": "code",
   "execution_count": 46,
   "id": "9d796a22-81ee-4f83-999e-bf7333ba1d27",
   "metadata": {},
   "outputs": [
    {
     "data": {
      "text/plain": [
       "<Axes: >"
      ]
     },
     "execution_count": 46,
     "metadata": {},
     "output_type": "execute_result"
    },
    {
     "data": {
      "image/png": "[encoded data removed]",
      "text/plain": [
       "<Figure size 640x480 with 1 Axes>"
      ]
     },
     "metadata": {},
     "output_type": "display_data"
    }
   ],
   "source": [
    "# changing bins to 50 to show more detail\n",
    "# fewer bins --> larger intervals; less detailed but easier to interpret.\n",
    "# More bins --> smaller intervals; more detailed but can be harder to interpret\n",
    "myDF['Cost'].hist(bins=50, edgecolor='black')"
   ]
  },
  {
   "cell_type": "markdown",
   "id": "a022b293-1656-4def-88c8-a354fa71966e",
   "metadata": {},
   "source": [
    "#### 20.\tHow many missing values do we have in the ‘Zip Code’ column? How many missing values in the ‘Type’ column?\n",
    "####        Provide a brief summary of null values for the entire Data Frame."
   ]
  },
  {
   "cell_type": "code",
   "execution_count": 48,
   "id": "34427ad4-c327-47bb-a367-60e8844c862d",
   "metadata": {},
   "outputs": [
    {
     "data": {
      "text/plain": [
       "9"
      ]
     },
     "execution_count": 48,
     "metadata": {},
     "output_type": "execute_result"
    }
   ],
   "source": [
    "# missing values in 'Zip Code' --> isnull() checks for rows with missing values --> sum() adds the number of occurances up\n",
    "myDF['Zip Code'].isnull().sum()"
   ]
  },
  {
   "cell_type": "code",
   "execution_count": 49,
   "id": "cc144046-e7e8-447f-864d-ad3133f4f543",
   "metadata": {},
   "outputs": [
    {
     "data": {
      "text/plain": [
       "2"
      ]
     },
     "execution_count": 49,
     "metadata": {},
     "output_type": "execute_result"
    }
   ],
   "source": [
    "# missing values in 'Type' --> isnull() checks for rows with missing values --> sum() adds the number of occurances up\n",
    "myDF['Type'].isnull().sum()"
   ]
  },
  {
   "cell_type": "code",
   "execution_count": 50,
   "id": "bed72311-7cc3-4538-92e8-340880c11c62",
   "metadata": {},
   "outputs": [
    {
     "data": {
      "text/plain": [
       "ID           0\n",
       "Range        0\n",
       "Value        0\n",
       "Type         2\n",
       "Zip Code     9\n",
       "Cost         0\n",
       "Continent    0\n",
       "dtype: int64"
      ]
     },
     "execution_count": 50,
     "metadata": {},
     "output_type": "execute_result"
    }
   ],
   "source": [
    "# quick summary of the count of null values in each column\n",
    "myDF.isnull().sum()"
   ]
  },
  {
   "cell_type": "markdown",
   "id": "da25f319-6bb0-4c4b-978e-0878dafb8d67",
   "metadata": {},
   "source": [
    "#### 21.\tIf we drop all the rows that have ‘any’ missing value, how many rows will remain in myDF?"
   ]
  },
  {
   "cell_type": "code",
   "execution_count": 52,
   "id": "96e084d1-3119-425f-a281-09cb9e0144c7",
   "metadata": {},
   "outputs": [],
   "source": [
    "# dropna() removes rows with missing values ie. NaN\n",
    "# inplace=True modifies myDF without creating a copy\n",
    "# print(\"Rows before dropping missing values:\", len(myDF)) # 947\n",
    "\n",
    "# myDF.dropna(inplace=True)\n",
    "# print(\"Rows after dropping missing values:\", len(myDF)) # 936\n",
    "\n",
    "# last cell we counted 9 + 2 rows with NaN values so as you can see we dropped those 11 rows and this confirms that\n",
    "# repurpose the above code for 24."
   ]
  },
  {
   "cell_type": "markdown",
   "id": "7e270b5a-5376-4041-a087-2909a56dcde1",
   "metadata": {},
   "source": [
    "#### 22.   Show the statistics for the ‘Type’ column using the value_count method, including the NaN values in the list. \n",
    "####       How many missing values do we have?"
   ]
  },
  {
   "cell_type": "code",
   "execution_count": 54,
   "id": "184a90a5-c005-4e63-b2ed-53108470a9ff",
   "metadata": {},
   "outputs": [
    {
     "name": "stdout",
     "output_type": "stream",
     "text": [
      "Type\n",
      "AAA    50\n",
      "N      47\n",
      "Z      44\n",
      "Q      44\n",
      "C      43\n",
      "K      41\n",
      "V      41\n",
      "A      40\n",
      "H      39\n",
      "Y      39\n",
      "G      38\n",
      "M      37\n",
      "X      37\n",
      "U      36\n",
      "O      36\n",
      "L      35\n",
      "J      35\n",
      "S      34\n",
      "I      33\n",
      "W      32\n",
      "D      30\n",
      "B      29\n",
      "T      28\n",
      "P      28\n",
      "R      25\n",
      "E      24\n",
      "NaN     2\n",
      "Name: count, dtype: int64\n"
     ]
    }
   ],
   "source": [
    "# in this case we set dropna=False so we can include them in the count\n",
    "type_counts = myDF['Type'].value_counts(dropna=False)\n",
    "print(type_counts)"
   ]
  },
  {
   "cell_type": "code",
   "execution_count": 55,
   "id": "930ba038-60b2-4e2f-815c-920d16f168bb",
   "metadata": {},
   "outputs": [
    {
     "name": "stdout",
     "output_type": "stream",
     "text": [
      "Number of missing values in 'Type': 2\n"
     ]
    }
   ],
   "source": [
    "# count the count of missing values\n",
    "missing_values = myDF['Type'].isnull().sum()\n",
    "print(f\"Number of missing values in 'Type': {missing_values}\")"
   ]
  },
  {
   "cell_type": "markdown",
   "id": "78f3d9c7-fb4d-4c79-b59f-b3d53c1691f8",
   "metadata": {},
   "source": [
    "#### 23.\tReplace the ‘Type’ column missing values with ‘XXX’ and show the result again."
   ]
  },
  {
   "cell_type": "code",
   "execution_count": 57,
   "id": "3e6b7f95-980e-49e6-bf70-9aef201604af",
   "metadata": {},
   "outputs": [
    {
     "name": "stdout",
     "output_type": "stream",
     "text": [
      "Type\n",
      "AAA    50\n",
      "N      47\n",
      "Z      44\n",
      "Q      44\n",
      "C      43\n",
      "K      41\n",
      "V      41\n",
      "A      40\n",
      "H      39\n",
      "Y      39\n",
      "G      38\n",
      "M      37\n",
      "X      37\n",
      "U      36\n",
      "O      36\n",
      "L      35\n",
      "J      35\n",
      "S      34\n",
      "I      33\n",
      "W      32\n",
      "D      30\n",
      "B      29\n",
      "T      28\n",
      "P      28\n",
      "R      25\n",
      "E      24\n",
      "XXX     2\n",
      "Name: count, dtype: int64\n"
     ]
    }
   ],
   "source": [
    "# \n",
    "myDF.fillna({'Type': 'XXX'}, inplace=True)\n",
    "# Show the updated 'Type' column\n",
    "print(myDF['Type'].value_counts())"
   ]
  },
  {
   "cell_type": "markdown",
   "id": "1fa3b336-6262-4ff2-8c52-649266c23be8",
   "metadata": {},
   "source": [
    "#### 24.\tDrop the rows that have any missing value permanently and show the number of rows after running the drop command."
   ]
  },
  {
   "cell_type": "code",
   "execution_count": 59,
   "id": "0b5b6b39-6c45-48b0-9a62-af11310ffcd4",
   "metadata": {},
   "outputs": [
    {
     "name": "stdout",
     "output_type": "stream",
     "text": [
      "Rows before dropping missing values: 947\n",
      "Rows after dropping missing values: 938\n"
     ]
    }
   ],
   "source": [
    "# show the number of rows before dropping missing values\n",
    "print(\"Rows before dropping missing values:\", len(myDF))\n",
    "\n",
    "# drop rows with any missing values permanently\n",
    "myDF.dropna(inplace=True)\n",
    "\n",
    "# show the number of rows after dropping missing values\n",
    "print(\"Rows after dropping missing values:\", len(myDF))"
   ]
  },
  {
   "cell_type": "markdown",
   "id": "f63d7f8c-22de-4d5e-9a19-7eea03dc14ac",
   "metadata": {},
   "source": [
    "#### 25.\tSet the ‘ID’ column as the new index and delete the index name. Then show the first 5 rows of the DF. \n",
    "####        Show the value of the cell that its ID is 70 and its column header is ‘Value’."
   ]
  },
  {
   "cell_type": "code",
   "execution_count": 61,
   "id": "926d0e93-082b-46f2-8fc0-d212f80b8597",
   "metadata": {},
   "outputs": [
    {
     "data": {
      "text/html": [
       "<div>\n",
       "<style scoped>\n",
       "    .dataframe tbody tr th:only-of-type {\n",
       "        vertical-align: middle;\n",
       "    }\n",
       "\n",
       "    .dataframe tbody tr th {\n",
       "        vertical-align: top;\n",
       "    }\n",
       "\n",
       "    .dataframe thead th {\n",
       "        text-align: right;\n",
       "    }\n",
       "</style>\n",
       "<table border=\"1\" class=\"dataframe\">\n",
       "  <thead>\n",
       "    <tr style=\"text-align: right;\">\n",
       "      <th></th>\n",
       "      <th>ID</th>\n",
       "      <th>Range</th>\n",
       "      <th>Value</th>\n",
       "      <th>Type</th>\n",
       "      <th>Zip Code</th>\n",
       "      <th>Cost</th>\n",
       "      <th>Continent</th>\n",
       "    </tr>\n",
       "  </thead>\n",
       "  <tbody>\n",
       "    <tr>\n",
       "      <th>0</th>\n",
       "      <td>10</td>\n",
       "      <td>192</td>\n",
       "      <td>50</td>\n",
       "      <td>AAA</td>\n",
       "      <td>NXEYEM</td>\n",
       "      <td>56</td>\n",
       "      <td>Asia</td>\n",
       "    </tr>\n",
       "    <tr>\n",
       "      <th>2</th>\n",
       "      <td>30</td>\n",
       "      <td>378</td>\n",
       "      <td>28</td>\n",
       "      <td>X</td>\n",
       "      <td>IMGMFY</td>\n",
       "      <td>90</td>\n",
       "      <td>North America</td>\n",
       "    </tr>\n",
       "    <tr>\n",
       "      <th>4</th>\n",
       "      <td>50</td>\n",
       "      <td>468</td>\n",
       "      <td>33</td>\n",
       "      <td>J</td>\n",
       "      <td>HPQCMC</td>\n",
       "      <td>95</td>\n",
       "      <td>Africa</td>\n",
       "    </tr>\n",
       "    <tr>\n",
       "      <th>6</th>\n",
       "      <td>70</td>\n",
       "      <td>327</td>\n",
       "      <td>24</td>\n",
       "      <td>AAA</td>\n",
       "      <td>NLVQPY</td>\n",
       "      <td>25</td>\n",
       "      <td>Europe</td>\n",
       "    </tr>\n",
       "    <tr>\n",
       "      <th>7</th>\n",
       "      <td>80</td>\n",
       "      <td>495</td>\n",
       "      <td>50</td>\n",
       "      <td>Z</td>\n",
       "      <td>DLUMAX</td>\n",
       "      <td>70</td>\n",
       "      <td>Antarctica</td>\n",
       "    </tr>\n",
       "  </tbody>\n",
       "</table>\n",
       "</div>"
      ],
      "text/plain": [
       "   ID  Range  Value Type Zip Code  Cost      Continent\n",
       "0  10    192     50  AAA   NXEYEM    56           Asia\n",
       "2  30    378     28    X   IMGMFY    90  North America\n",
       "4  50    468     33    J   HPQCMC    95         Africa\n",
       "6  70    327     24  AAA   NLVQPY    25         Europe\n",
       "7  80    495     50    Z   DLUMAX    70     Antarctica"
      ]
     },
     "execution_count": 61,
     "metadata": {},
     "output_type": "execute_result"
    }
   ],
   "source": [
    "# before\n",
    "myDF.head()"
   ]
  },
  {
   "cell_type": "code",
   "execution_count": 62,
   "id": "9422ef5a-8175-461b-8f33-a8bce09393bc",
   "metadata": {},
   "outputs": [
    {
     "data": {
      "text/html": [
       "<div>\n",
       "<style scoped>\n",
       "    .dataframe tbody tr th:only-of-type {\n",
       "        vertical-align: middle;\n",
       "    }\n",
       "\n",
       "    .dataframe tbody tr th {\n",
       "        vertical-align: top;\n",
       "    }\n",
       "\n",
       "    .dataframe thead th {\n",
       "        text-align: right;\n",
       "    }\n",
       "</style>\n",
       "<table border=\"1\" class=\"dataframe\">\n",
       "  <thead>\n",
       "    <tr style=\"text-align: right;\">\n",
       "      <th></th>\n",
       "      <th>Range</th>\n",
       "      <th>Value</th>\n",
       "      <th>Type</th>\n",
       "      <th>Zip Code</th>\n",
       "      <th>Cost</th>\n",
       "      <th>Continent</th>\n",
       "    </tr>\n",
       "  </thead>\n",
       "  <tbody>\n",
       "    <tr>\n",
       "      <th>10</th>\n",
       "      <td>192</td>\n",
       "      <td>50</td>\n",
       "      <td>AAA</td>\n",
       "      <td>NXEYEM</td>\n",
       "      <td>56</td>\n",
       "      <td>Asia</td>\n",
       "    </tr>\n",
       "    <tr>\n",
       "      <th>30</th>\n",
       "      <td>378</td>\n",
       "      <td>28</td>\n",
       "      <td>X</td>\n",
       "      <td>IMGMFY</td>\n",
       "      <td>90</td>\n",
       "      <td>North America</td>\n",
       "    </tr>\n",
       "    <tr>\n",
       "      <th>50</th>\n",
       "      <td>468</td>\n",
       "      <td>33</td>\n",
       "      <td>J</td>\n",
       "      <td>HPQCMC</td>\n",
       "      <td>95</td>\n",
       "      <td>Africa</td>\n",
       "    </tr>\n",
       "    <tr>\n",
       "      <th>70</th>\n",
       "      <td>327</td>\n",
       "      <td>24</td>\n",
       "      <td>AAA</td>\n",
       "      <td>NLVQPY</td>\n",
       "      <td>25</td>\n",
       "      <td>Europe</td>\n",
       "    </tr>\n",
       "    <tr>\n",
       "      <th>80</th>\n",
       "      <td>495</td>\n",
       "      <td>50</td>\n",
       "      <td>Z</td>\n",
       "      <td>DLUMAX</td>\n",
       "      <td>70</td>\n",
       "      <td>Antarctica</td>\n",
       "    </tr>\n",
       "  </tbody>\n",
       "</table>\n",
       "</div>"
      ],
      "text/plain": [
       "    Range  Value Type Zip Code  Cost      Continent\n",
       "10    192     50  AAA   NXEYEM    56           Asia\n",
       "30    378     28    X   IMGMFY    90  North America\n",
       "50    468     33    J   HPQCMC    95         Africa\n",
       "70    327     24  AAA   NLVQPY    25         Europe\n",
       "80    495     50    Z   DLUMAX    70     Antarctica"
      ]
     },
     "execution_count": 62,
     "metadata": {},
     "output_type": "execute_result"
    }
   ],
   "source": [
    "# set the new index\n",
    "myDF.set_index('ID', inplace=True)\n",
    "\n",
    "# delete the index name\n",
    "myDF.index.name = None\n",
    "\n",
    "# show the first 5 rows\n",
    "myDF.head()"
   ]
  },
  {
   "cell_type": "code",
   "execution_count": 63,
   "id": "95f52741-755e-468c-ae35-d40bbb5aa6e1",
   "metadata": {},
   "outputs": [
    {
     "data": {
      "text/plain": [
       "24"
      ]
     },
     "execution_count": 63,
     "metadata": {},
     "output_type": "execute_result"
    }
   ],
   "source": [
    "# look up the entry with ID of 70 and return the value of the 'Value' column\n",
    "myDF.loc[70, 'Value']"
   ]
  },
  {
   "cell_type": "markdown",
   "id": "aff8ced6-227f-4998-aff2-698782bfce34",
   "metadata": {},
   "source": [
    "#### 26.\tShow the index, columns and the shape of the current DF. Bring back the ID column to the DF and reset the index. \n",
    "####        Again, show the index, columns and the shape of the current DF."
   ]
  },
  {
   "cell_type": "code",
   "execution_count": 65,
   "id": "74f0790c-a158-45d4-8847-f36db89cb102",
   "metadata": {},
   "outputs": [
    {
     "name": "stdout",
     "output_type": "stream",
     "text": [
      "Index before resetting: Index([  10,   30,   50,   70,   80,   90,  100,  110,  120,  130,\n",
      "       ...\n",
      "       9410, 9420, 9430, 9440, 9450, 9460, 9470, 9480, 9490, 9500],\n",
      "      dtype='int64', length=938)\n",
      "Columns before resetting: Index(['Range', 'Value', 'Type', 'Zip Code', 'Cost', 'Continent'], dtype='object')\n",
      "Shape before resetting: (938, 6)\n"
     ]
    }
   ],
   "source": [
    "# 1. show the index, columns, and shape of the current dataframe\n",
    "print(\"Index before resetting:\", myDF.index)\n",
    "print(\"Columns before resetting:\", myDF.columns)\n",
    "print(\"Shape before resetting:\", myDF.shape)"
   ]
  },
  {
   "cell_type": "code",
   "execution_count": 66,
   "id": "2efaa292-bfc3-4254-9ff5-10b5f046e839",
   "metadata": {},
   "outputs": [],
   "source": [
    "# 2. Reset the index and bring the 'ID' column back to the dataframe\n",
    "myDF.reset_index(inplace=True)"
   ]
  },
  {
   "cell_type": "code",
   "execution_count": 67,
   "id": "ce1d7018-e9b6-4b76-8485-edfcfde7946e",
   "metadata": {},
   "outputs": [
    {
     "name": "stdout",
     "output_type": "stream",
     "text": [
      "Index after resetting: RangeIndex(start=0, stop=938, step=1)\n",
      "Columns after resetting: Index(['index', 'Range', 'Value', 'Type', 'Zip Code', 'Cost', 'Continent'], dtype='object')\n",
      "Shape after resetting: (938, 7)\n"
     ]
    }
   ],
   "source": [
    "# 3. Show the index, columns, and shape of the DataFrame after resetting\n",
    "print(\"Index after resetting:\", myDF.index)\n",
    "print(\"Columns after resetting:\", myDF.columns)\n",
    "print(\"Shape after resetting:\", myDF.shape)"
   ]
  },
  {
   "cell_type": "markdown",
   "id": "c507c4ed-72ad-4c6d-88e5-2521ffe64d0e",
   "metadata": {},
   "source": [
    "#### 27.\tUse the describe method to see the statistics of myDF and fetch the value of the first row and the third column of the result."
   ]
  },
  {
   "cell_type": "code",
   "execution_count": 69,
   "id": "94290542-b7d0-4203-953f-7292988f2b04",
   "metadata": {},
   "outputs": [
    {
     "data": {
      "text/plain": [
       "938.0"
      ]
     },
     "execution_count": 69,
     "metadata": {},
     "output_type": "execute_result"
    }
   ],
   "source": [
    "# describe() to get a summary of the stats in the dataframe\n",
    "# iloc is a pandas method used for position-based indexing\n",
    "# --> 0 indicating the first row\n",
    "# --> 2 incicating the third column\n",
    "stats = myDF.describe()\n",
    "stats.iloc[0, 2]"
   ]
  },
  {
   "cell_type": "markdown",
   "id": "b7d50295-193d-4029-974f-1138c563fa48",
   "metadata": {},
   "source": [
    "#### 28.\tSort the value_counts() of the ‘Continent’ column of the DF. Then, sort the value_counts() of the ‘Continent’ column,\n",
    "####        based on the alphabetic order of the continents."
   ]
  },
  {
   "cell_type": "code",
   "execution_count": 71,
   "id": "a1cf4cae-84bb-4e11-82de-f40c2bb660be",
   "metadata": {},
   "outputs": [
    {
     "data": {
      "text/plain": [
       "Continent\n",
       "North America    141\n",
       "Australia        141\n",
       "Africa           139\n",
       "Europe           138\n",
       "South America    135\n",
       "Asia             129\n",
       "Antarctica       115\n",
       "Name: count, dtype: int64"
      ]
     },
     "execution_count": 71,
     "metadata": {},
     "output_type": "execute_result"
    }
   ],
   "source": [
    "# frequency based sort of the continent column \n",
    "myDF['Continent'].value_counts()"
   ]
  },
  {
   "cell_type": "code",
   "execution_count": 72,
   "id": "e1f4f0dd-e9fc-4a3e-a1b4-c5d4baf2c6a1",
   "metadata": {},
   "outputs": [
    {
     "data": {
      "text/plain": [
       "Continent\n",
       "Africa           139\n",
       "Antarctica       115\n",
       "Asia             129\n",
       "Australia        141\n",
       "Europe           138\n",
       "North America    141\n",
       "South America    135\n",
       "Name: count, dtype: int64"
      ]
     },
     "execution_count": 72,
     "metadata": {},
     "output_type": "execute_result"
    }
   ],
   "source": [
    "# alpha sort of the continent column \n",
    "myDF['Continent'].value_counts().sort_index()"
   ]
  },
  {
   "cell_type": "markdown",
   "id": "9f90010f-517b-4f0f-8999-cf700c1a530e",
   "metadata": {},
   "source": [
    "#### 29.\tShow all the columns of the following rows in one command. [1,3,5,7] and show the first 7 rows of the following \n",
    "####        columns: ‘Type’ and ‘Continent’"
   ]
  },
  {
   "cell_type": "code",
   "execution_count": 74,
   "id": "435ad2d9-e951-4571-b937-e2c071f616b7",
   "metadata": {},
   "outputs": [
    {
     "data": {
      "text/html": [
       "<div>\n",
       "<style scoped>\n",
       "    .dataframe tbody tr th:only-of-type {\n",
       "        vertical-align: middle;\n",
       "    }\n",
       "\n",
       "    .dataframe tbody tr th {\n",
       "        vertical-align: top;\n",
       "    }\n",
       "\n",
       "    .dataframe thead th {\n",
       "        text-align: right;\n",
       "    }\n",
       "</style>\n",
       "<table border=\"1\" class=\"dataframe\">\n",
       "  <thead>\n",
       "    <tr style=\"text-align: right;\">\n",
       "      <th></th>\n",
       "      <th>index</th>\n",
       "      <th>Range</th>\n",
       "      <th>Value</th>\n",
       "      <th>Type</th>\n",
       "      <th>Zip Code</th>\n",
       "      <th>Cost</th>\n",
       "      <th>Continent</th>\n",
       "    </tr>\n",
       "  </thead>\n",
       "  <tbody>\n",
       "    <tr>\n",
       "      <th>1</th>\n",
       "      <td>30</td>\n",
       "      <td>378</td>\n",
       "      <td>28</td>\n",
       "      <td>X</td>\n",
       "      <td>IMGMFY</td>\n",
       "      <td>90</td>\n",
       "      <td>North America</td>\n",
       "    </tr>\n",
       "    <tr>\n",
       "      <th>3</th>\n",
       "      <td>70</td>\n",
       "      <td>327</td>\n",
       "      <td>24</td>\n",
       "      <td>AAA</td>\n",
       "      <td>NLVQPY</td>\n",
       "      <td>25</td>\n",
       "      <td>Europe</td>\n",
       "    </tr>\n",
       "    <tr>\n",
       "      <th>5</th>\n",
       "      <td>90</td>\n",
       "      <td>115</td>\n",
       "      <td>30</td>\n",
       "      <td>S</td>\n",
       "      <td>KYJUHA</td>\n",
       "      <td>17</td>\n",
       "      <td>South America</td>\n",
       "    </tr>\n",
       "    <tr>\n",
       "      <th>7</th>\n",
       "      <td>110</td>\n",
       "      <td>301</td>\n",
       "      <td>29</td>\n",
       "      <td>A</td>\n",
       "      <td>OVINZU</td>\n",
       "      <td>69</td>\n",
       "      <td>South America</td>\n",
       "    </tr>\n",
       "  </tbody>\n",
       "</table>\n",
       "</div>"
      ],
      "text/plain": [
       "   index  Range  Value Type Zip Code  Cost      Continent\n",
       "1     30    378     28    X   IMGMFY    90  North America\n",
       "3     70    327     24  AAA   NLVQPY    25         Europe\n",
       "5     90    115     30    S   KYJUHA    17  South America\n",
       "7    110    301     29    A   OVINZU    69  South America"
      ]
     },
     "execution_count": 74,
     "metadata": {},
     "output_type": "execute_result"
    }
   ],
   "source": [
    "# loc[] to select rows based off index values\n",
    "myDF.loc[[1, 3, 5, 7]]"
   ]
  },
  {
   "cell_type": "code",
   "execution_count": 75,
   "id": "1bb74cb6-6402-4723-9e1c-190d011cf72c",
   "metadata": {},
   "outputs": [
    {
     "data": {
      "text/html": [
       "<div>\n",
       "<style scoped>\n",
       "    .dataframe tbody tr th:only-of-type {\n",
       "        vertical-align: middle;\n",
       "    }\n",
       "\n",
       "    .dataframe tbody tr th {\n",
       "        vertical-align: top;\n",
       "    }\n",
       "\n",
       "    .dataframe thead th {\n",
       "        text-align: right;\n",
       "    }\n",
       "</style>\n",
       "<table border=\"1\" class=\"dataframe\">\n",
       "  <thead>\n",
       "    <tr style=\"text-align: right;\">\n",
       "      <th></th>\n",
       "      <th>Type</th>\n",
       "      <th>Continent</th>\n",
       "    </tr>\n",
       "  </thead>\n",
       "  <tbody>\n",
       "    <tr>\n",
       "      <th>0</th>\n",
       "      <td>AAA</td>\n",
       "      <td>Asia</td>\n",
       "    </tr>\n",
       "    <tr>\n",
       "      <th>1</th>\n",
       "      <td>X</td>\n",
       "      <td>North America</td>\n",
       "    </tr>\n",
       "    <tr>\n",
       "      <th>2</th>\n",
       "      <td>J</td>\n",
       "      <td>Africa</td>\n",
       "    </tr>\n",
       "    <tr>\n",
       "      <th>3</th>\n",
       "      <td>AAA</td>\n",
       "      <td>Europe</td>\n",
       "    </tr>\n",
       "    <tr>\n",
       "      <th>4</th>\n",
       "      <td>Z</td>\n",
       "      <td>Antarctica</td>\n",
       "    </tr>\n",
       "    <tr>\n",
       "      <th>5</th>\n",
       "      <td>S</td>\n",
       "      <td>South America</td>\n",
       "    </tr>\n",
       "    <tr>\n",
       "      <th>6</th>\n",
       "      <td>K</td>\n",
       "      <td>South America</td>\n",
       "    </tr>\n",
       "  </tbody>\n",
       "</table>\n",
       "</div>"
      ],
      "text/plain": [
       "  Type      Continent\n",
       "0  AAA           Asia\n",
       "1    X  North America\n",
       "2    J         Africa\n",
       "3  AAA         Europe\n",
       "4    Z     Antarctica\n",
       "5    S  South America\n",
       "6    K  South America"
      ]
     },
     "execution_count": 75,
     "metadata": {},
     "output_type": "execute_result"
    }
   ],
   "source": [
    "# selects only 'Type' and 'Continent' columns --> head(7) shows first 7 rows\n",
    "myDF[['Type', 'Continent']].head(7)"
   ]
  },
  {
   "cell_type": "markdown",
   "id": "7d4b2fd2-f494-4669-b97c-100035b83775",
   "metadata": {},
   "source": [
    "#### 30.\tShow the ‘Value’ of the ‘Type’ that are equal to ’XXX’."
   ]
  },
  {
   "cell_type": "code",
   "execution_count": 122,
   "id": "638d1524-5614-49eb-91e5-db6c6f9c84ba",
   "metadata": {},
   "outputs": [
    {
     "data": {
      "text/plain": [
       "687    42\n",
       "743    37\n",
       "Name: Value, dtype: int64"
      ]
     },
     "execution_count": 122,
     "metadata": {},
     "output_type": "execute_result"
    }
   ],
   "source": [
    "# create a boolean where each element is True if the corresponding value in the 'Type' column is 'XXX', and False if not.\n",
    "# filter rows of the myDF using the boolean --> only rows where the boolean is True are kept\n",
    "# selects and returns the 'Value' column where 'Type' equals 'XXX'\n",
    "myDF[myDF['Type'] == 'XXX']['Value']"
   ]
  },
  {
   "cell_type": "code",
   "execution_count": null,
   "id": "9b1576c2-f17b-4a85-9e77-a10061d0096b",
   "metadata": {},
   "outputs": [],
   "source": []
  }
 ],
 "metadata": {
  "kernelspec": {
   "display_name": "Python 3 (ipykernel)",
   "language": "python",
   "name": "python3"
  },
  "language_info": {
   "codemirror_mode": {
    "name": "ipython",
    "version": 3
   },
   "file_extension": ".py",
   "mimetype": "text/x-python",
   "name": "python",
   "nbconvert_exporter": "python",
   "pygments_lexer": "ipython3",
   "version": "3.12.4"
  }
 },
 "nbformat": 4,
 "nbformat_minor": 5
}
